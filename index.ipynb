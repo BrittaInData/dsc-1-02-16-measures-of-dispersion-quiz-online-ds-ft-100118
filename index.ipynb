{
 "cells": [
  {
   "cell_type": "markdown",
   "metadata": {},
   "source": [
    "# Measures of Dispersion - Quiz\n",
    "\n",
    "## Objectives\n",
    "You will be able to:\n",
    "* Describe the significance of calculating measures of dispersion for continuous data\n",
    "* Understand the formula and intuition behind mean absolute deviation, standard deviation and variance\n",
    "* Understand the formula and intuition behind quantiles/quartiles and percentiles\n",
    "* Understand and interpret Interquartile distances with box plots"
   ]
  },
  {
   "cell_type": "markdown",
   "metadata": {},
   "source": [
    "## Exercise 1\n",
    "Summary statistics for two samples of data are\n",
    "```\n",
    "Sample 1:\t\n",
    "mean = 19 \n",
    "variance = 10\n",
    "\n",
    "Sample 2:\t\n",
    "mean = 10\n",
    "variance = 19\n",
    "```\n",
    "Which sample has the larger spread of observations?"
   ]
  },
  {
   "cell_type": "code",
   "execution_count": 22,
   "metadata": {},
   "outputs": [],
   "source": [
    "# Your answer here: Sample 2"
   ]
  },
  {
   "cell_type": "markdown",
   "metadata": {},
   "source": [
    "## Exercise 2\n",
    "Consider the following ordered set of data\n",
    "```\n",
    "4 4 4 9 5 0 5 1 5 3 5 7 5 8 6 2\n",
    "\n",
    "6 6 6 6 6 8 7 1 7 5 7 7 8 0 8 5\n",
    "```\n",
    "\n",
    "* What is the IQR? \n",
    "* Optional extension: Verify your answer in Python "
   ]
  },
  {
   "cell_type": "code",
   "execution_count": 38,
   "metadata": {},
   "outputs": [],
   "source": [
    "unordered = [4, 4, 4, 9, 5, 0, 5, 1, 5, 3, 5, 7, 5, 8, 6, 2, 6, 6, 6, 6, 6, 8, 7, 1, 7, 5, 7, 7, 8, 0, 8, 5]\n",
    "ordered = sorted(unordered)"
   ]
  },
  {
   "cell_type": "code",
   "execution_count": 39,
   "metadata": {},
   "outputs": [
    {
     "name": "stdout",
     "output_type": "stream",
     "text": [
      "Q1: 4.0, Q3: 7.0, IQR: 3.0\n"
     ]
    }
   ],
   "source": [
    "import numpy as np\n",
    "q1 = np.percentile(unordered, 25)\n",
    "q3 = np.percentile(unordered, 75)\n",
    "iqr = q3-q1\n",
    "print(f\"Q1: {q1}, Q3: {q3}, IQR: {iqr}\")"
   ]
  },
  {
   "cell_type": "markdown",
   "metadata": {},
   "source": [
    "### Exercise 3\n",
    "Create a box-and-whisker plot for the judges' scores for an artist's performances in a talent competition.\n",
    "\n",
    "```\n",
    "Evan L\t52\n",
    "Nicole S  50\n",
    "Pamela A  47\n",
    "Chad O\t44\n",
    "Erin A\t39\n",
    "Jake P\t38\n",
    "Niecy N   36\n",
    "Kate G\t32\n",
    "```\n",
    "Create a box plot in matplotlib to identify the median for giving a final score to the artist. Are there any outliers ?"
   ]
  },
  {
   "cell_type": "code",
   "execution_count": 11,
   "metadata": {
    "collapsed": true
   },
   "outputs": [
    {
     "name": "stdout",
     "output_type": "stream",
     "text": [
      "Requirement already satisfied: matplotlib in /opt/conda/lib/python3.6/site-packages (3.0.0)\n",
      "Requirement already satisfied: pyparsing!=2.0.4,!=2.1.2,!=2.1.6,>=2.0.1 in /opt/conda/lib/python3.6/site-packages (from matplotlib) (2.2.2)\n",
      "Requirement already satisfied: numpy>=1.10.0 in /opt/conda/lib/python3.6/site-packages (from matplotlib) (1.14.3)\n",
      "Requirement already satisfied: cycler>=0.10 in /opt/conda/lib/python3.6/site-packages (from matplotlib) (0.10.0)\n",
      "Requirement already satisfied: kiwisolver>=1.0.1 in /opt/conda/lib/python3.6/site-packages (from matplotlib) (1.0.1)\n",
      "Requirement already satisfied: python-dateutil>=2.1 in /opt/conda/lib/python3.6/site-packages (from matplotlib) (2.7.3)\n",
      "Requirement already satisfied: six in /opt/conda/lib/python3.6/site-packages (from cycler>=0.10->matplotlib) (1.11.0)\n",
      "Requirement already satisfied: setuptools in /opt/conda/lib/python3.6/site-packages (from kiwisolver>=1.0.1->matplotlib) (38.4.0)\n",
      "Collecting seaborn\n",
      "\u001b[?25l  Downloading https://files.pythonhosted.org/packages/a8/76/220ba4420459d9c4c9c9587c6ce607bf56c25b3d3d2de62056efe482dadc/seaborn-0.9.0-py3-none-any.whl (208kB)\n",
      "\u001b[K    100% |████████████████████████████████| 215kB 3.9MB/s ta 0:00:01\n",
      "\u001b[?25hRequirement already satisfied: pandas>=0.15.2 in /opt/conda/lib/python3.6/site-packages (from seaborn) (0.23.4)\n",
      "Requirement already satisfied: numpy>=1.9.3 in /opt/conda/lib/python3.6/site-packages (from seaborn) (1.14.3)\n",
      "Collecting scipy>=0.14.0 (from seaborn)\n",
      "\u001b[?25l  Downloading https://files.pythonhosted.org/packages/a8/0b/f163da98d3a01b3e0ef1cab8dd2123c34aee2bafbb1c5bffa354cc8a1730/scipy-1.1.0-cp36-cp36m-manylinux1_x86_64.whl (31.2MB)\n",
      "\u001b[K    100% |████████████████████████████████| 31.2MB 528kB/s eta 0:00:01 | 18.7MB 14.0MB/s eta 0:00:01\n",
      "\u001b[?25hRequirement already satisfied: matplotlib>=1.4.3 in /opt/conda/lib/python3.6/site-packages (from seaborn) (3.0.0)\n",
      "Requirement already satisfied: pytz>=2011k in /opt/conda/lib/python3.6/site-packages (from pandas>=0.15.2->seaborn) (2018.5)\n",
      "Requirement already satisfied: python-dateutil>=2.5.0 in /opt/conda/lib/python3.6/site-packages (from pandas>=0.15.2->seaborn) (2.7.3)\n",
      "Requirement already satisfied: cycler>=0.10 in /opt/conda/lib/python3.6/site-packages (from matplotlib>=1.4.3->seaborn) (0.10.0)\n",
      "Requirement already satisfied: kiwisolver>=1.0.1 in /opt/conda/lib/python3.6/site-packages (from matplotlib>=1.4.3->seaborn) (1.0.1)\n",
      "Requirement already satisfied: pyparsing!=2.0.4,!=2.1.2,!=2.1.6,>=2.0.1 in /opt/conda/lib/python3.6/site-packages (from matplotlib>=1.4.3->seaborn) (2.2.2)\n",
      "Requirement already satisfied: six>=1.5 in /opt/conda/lib/python3.6/site-packages (from python-dateutil>=2.5.0->pandas>=0.15.2->seaborn) (1.11.0)\n",
      "Requirement already satisfied: setuptools in /opt/conda/lib/python3.6/site-packages (from kiwisolver>=1.0.1->matplotlib>=1.4.3->seaborn) (38.4.0)\n",
      "Installing collected packages: scipy, seaborn\n",
      "Successfully installed scipy-1.1.0 seaborn-0.9.0\n"
     ]
    }
   ],
   "source": [
    "!pip install matplotlib\n",
    "!pip install seaborn"
   ]
  },
  {
   "cell_type": "code",
   "execution_count": 40,
   "metadata": {},
   "outputs": [
    {
     "data": {
      "image/png": "[encoded data removed]",
      "text/plain": [
       "<Figure size 432x288 with 1 Axes>"
      ]
     },
     "metadata": {},
     "output_type": "display_data"
    }
   ],
   "source": [
    "# Your answer here \n",
    "import matplotlib.pyplot as plt\n",
    "%matplotlib inline\n",
    "import seaborn as sns\n",
    "sns.set()\n",
    "\n",
    "plt.style.use('ggplot')\n",
    "x = [52, 50, 47, 44, 39, 38, 36, 32]\n",
    "plt.boxplot(x)\n",
    "plt.title (\"Judges' score\")\n",
    "plt.show()"
   ]
  },
  {
   "cell_type": "code",
   "execution_count": 25,
   "metadata": {},
   "outputs": [],
   "source": [
    "# Your answer here: no, there are no outliers"
   ]
  },
  {
   "cell_type": "markdown",
   "metadata": {},
   "source": [
    "### Exercise 4\n",
    "Imagine that the number of marriages registered over a 10 year period were as follows:\n",
    "\n",
    "Table 1.  Number of registered marriages\n",
    "```\n",
    "Year  Number of marriages\n",
    "\n",
    "1\t40,650\n",
    "2\t40,812\n",
    "3\t41,300\n",
    "4\t41,450\n",
    "5\t39,594\n",
    "6\t40,734\n",
    "7\t39,993\n",
    "8\t38,814\n",
    "9\t37,828\n",
    "10   35,716\n",
    "```\n",
    "Using the data above:\n",
    "\n",
    "####  Find the median "
   ]
  },
  {
   "cell_type": "code",
   "execution_count": 41,
   "metadata": {},
   "outputs": [
    {
     "data": {
      "text/plain": [
       "40.3215"
      ]
     },
     "execution_count": 41,
     "metadata": {},
     "output_type": "execute_result"
    }
   ],
   "source": [
    "# Your answer here \n",
    "marriages = np.array([40.650, 40.812, 41.300, 41.450, 39.594, 40.734, 39.993, 38.814, 37.828, 35.716])\n",
    "median = np.median(marriages)\n",
    "median"
   ]
  },
  {
   "cell_type": "markdown",
   "metadata": {},
   "source": [
    "#### Find the upper and lower quartiles"
   ]
  },
  {
   "cell_type": "code",
   "execution_count": 44,
   "metadata": {},
   "outputs": [
    {
     "name": "stdout",
     "output_type": "stream",
     "text": [
      "Q3: 40.7925, Q1: 39.009\n"
     ]
    }
   ],
   "source": [
    "# Q1 = 38.814 Q3 = 40.812 # Your answer here \n",
    "q75, q25 = np.percentile(marriages, [75,25])\n",
    "\n",
    "print(f\"Q3: {q75}, Q1: {q25}\")"
   ]
  },
  {
   "cell_type": "markdown",
   "metadata": {},
   "source": [
    "#### Calculate the interquartile range\n"
   ]
  },
  {
   "cell_type": "code",
   "execution_count": 46,
   "metadata": {},
   "outputs": [
    {
     "name": "stdout",
     "output_type": "stream",
     "text": [
      "IQR: 1.7834999999999965\n"
     ]
    }
   ],
   "source": [
    "iqr = q75 - q25\n",
    "print(f\"IQR: {iqr}\")"
   ]
  },
  {
   "cell_type": "markdown",
   "metadata": {},
   "source": [
    "#### Plot a histogram to verify your answers"
   ]
  },
  {
   "cell_type": "code",
   "execution_count": 47,
   "metadata": {},
   "outputs": [
    {
     "data": {
      "image/png": "[encoded data removed]",
      "text/plain": [
       "<Figure size 432x288 with 1 Axes>"
      ]
     },
     "metadata": {},
     "output_type": "display_data"
    }
   ],
   "source": [
    "# Your answer here \n",
    "plt.hist(marriages)\n",
    "plt.title (\"Registered Marriages\")\n",
    "plt.show()"
   ]
  },
  {
   "cell_type": "code",
   "execution_count": 48,
   "metadata": {},
   "outputs": [
    {
     "data": {
      "image/png": "[encoded data removed]",
      "text/plain": [
       "<Figure size 432x288 with 1 Axes>"
      ]
     },
     "metadata": {},
     "output_type": "display_data"
    }
   ],
   "source": [
    "plt.boxplot(marriages)\n",
    "plt.title (\"Registered Marriages\")\n",
    "plt.show()"
   ]
  },
  {
   "cell_type": "code",
   "execution_count": null,
   "metadata": {},
   "outputs": [],
   "source": []
  }
 ],
 "metadata": {
  "kernelspec": {
   "display_name": "Python 3",
   "language": "python",
   "name": "python3"
  },
  "language_info": {
   "codemirror_mode": {
    "name": "ipython",
    "version": 3
   },
   "file_extension": ".py",
   "mimetype": "text/x-python",
   "name": "python",
   "nbconvert_exporter": "python",
   "pygments_lexer": "ipython3",
   "version": "3.6.4"
  }
 },
 "nbformat": 4,
 "nbformat_minor": 2
}
